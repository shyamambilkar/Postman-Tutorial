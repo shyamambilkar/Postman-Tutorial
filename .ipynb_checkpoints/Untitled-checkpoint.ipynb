{
 "cells": [
  {
   "cell_type": "markdown",
   "metadata": {},
   "source": [
    "# Postman:\n",
    "    1. Postman is one of the most popular software testing tools which is used for API testing.\n",
    "    2. with the help of this tool, develops can easily create, test, share, and document APIs.\n",
    "    3. Postman is standalone software testing API \n",
    "    4. API - Application Programming Interface\n",
    "    5. API provides platform build, test, modify, and documents APIS.\n",
    "    6. Postman using for testing purpose one dosent need to write any HTTP client network\n",
    "    7. It is simple Graphical user interface\n",
    "    8. Postman tools has ability to various type of HTTPS Request:\n",
    "        1. GET\n",
    "        2. POST\n",
    "        3. PUT\n",
    "        4. PATCH\n",
    "        5. and convert APIS into code for language javascript, json, python etc.\n",
    "    9. Terminologies:\n",
    "        1. API\n",
    "        2. HTTP - HyperText Transfer Protocol\n",
    "        3. "
   ]
  },
  {
   "cell_type": "markdown",
   "metadata": {},
   "source": [
    "# Why Postman?:\n",
    "    1. Accessibility:\n",
    "        1. one can use it anywhere after postman into device by simply logging into account\n",
    "    2. Use Collection:\n",
    "        1. postman allows user to build collection for their API-calls\n",
    "        2. Every set can create multiple requests and subfolder\n",
    "        3. organize rule test suites\n",
    "    3. Test Developement:\n",
    "        1. To test checkpoint, verfication of successful HTTP response status will be added to every APIS\n",
    "    4. Automation Testing:\n",
    "        2. Test can be performed in different operations or itration usig collection runner or Newman, which saves time for repeated test\n",
    "    5. Creating Enviorment:\n",
    "        3. different setting for API testing in less application\n",
    "    6. Debugging:\n",
    "        1. to effectively debug the test, the postman helps to track what data is retrived\n",
    "    7. Collaboration:\n",
    "        1. import or export collection and environment and share the files\n",
    "    8. Contineous Integration:\n",
    "        "
   ]
  },
  {
   "cell_type": "markdown",
   "metadata": {},
   "source": [
    "### 1. GET"
   ]
  },
  {
   "cell_type": "markdown",
   "metadata": {},
   "source": [
    "1. Request data from a specified resource\n",
    "2. GET method data sent as URL parameters that are usually strings of name value pairs\n",
    "3. Login Form:\n",
    "    username\n",
    "    password\n",
    "    method: GET\n",
    "4. cookies\n",
    "5. History"
   ]
  },
  {
   "cell_type": "code",
   "execution_count": 1,
   "metadata": {},
   "outputs": [],
   "source": [
    "import requests"
   ]
  },
  {
   "cell_type": "code",
   "execution_count": 3,
   "metadata": {},
   "outputs": [
    {
     "name": "stdout",
     "output_type": "stream",
     "text": [
      "<Response [200]>\n",
      "b'{\"data\":{\"id\":2,\"email\":\"janet.weaver@reqres.in\",\"first_name\":\"Janet\",\"last_name\":\"Weaver\",\"avatar\":\"https://reqres.in/img/faces/2-image.jpg\"},\"support\":{\"url\":\"https://reqres.in/#support-heading\",\"text\":\"To keep ReqRes free, contributions towards server costs are appreciated!\"}}'\n"
     ]
    }
   ],
   "source": [
    "req = requests.get('https://reqres.in/api/users/2', data={'key':'value'})\n",
    "print(req)\n",
    "print(req.content)"
   ]
  },
  {
   "cell_type": "markdown",
   "metadata": {},
   "source": [
    "https://reqres.in/"
   ]
  },
  {
   "cell_type": "markdown",
   "metadata": {},
   "source": [
    "https://documenter.getpostman.com/view/6961294/S1TVXyAS"
   ]
  },
  {
   "cell_type": "code",
   "execution_count": null,
   "metadata": {},
   "outputs": [],
   "source": []
  }
 ],
 "metadata": {
  "kernelspec": {
   "display_name": "Python 3",
   "language": "python",
   "name": "python3"
  },
  "language_info": {
   "codemirror_mode": {
    "name": "ipython",
    "version": 3
   },
   "file_extension": ".py",
   "mimetype": "text/x-python",
   "name": "python",
   "nbconvert_exporter": "python",
   "pygments_lexer": "ipython3",
   "version": "3.8.3"
  }
 },
 "nbformat": 4,
 "nbformat_minor": 4
}
